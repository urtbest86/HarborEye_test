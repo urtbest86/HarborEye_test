{
  "nbformat": 4,
  "nbformat_minor": 0,
  "metadata": {
    "colab": {
      "name": "과정 정리.ipynb",
      "provenance": [],
      "collapsed_sections": [
        "Tziu4VaGCzVR",
        "lYDCSkR9BpS_",
        "lAorC4XGB8-5"
      ],
      "authorship_tag": "ABX9TyOnkuqZxCPPPhFnwNLh9EXK",
      "include_colab_link": true
    },
    "kernelspec": {
      "name": "python3",
      "display_name": "Python 3"
    },
    "language_info": {
      "name": "python"
    }
  },
  "cells": [
    {
      "cell_type": "markdown",
      "metadata": {
        "id": "view-in-github",
        "colab_type": "text"
      },
      "source": [
        "<a href=\"https://colab.research.google.com/github/urtbest86/HarborEye_test/blob/master/%EA%B3%BC%EC%A0%95_%EC%A0%95%EB%A6%AC.ipynb\" target=\"_parent\"><img src=\"https://colab.research.google.com/assets/colab-badge.svg\" alt=\"Open In Colab\"/></a>"
      ]
    },
    {
      "cell_type": "markdown",
      "metadata": {
        "id": "jE91qW5mAl5p"
      },
      "source": [
        "### 1. 주제 선정"
      ]
    },
    {
      "cell_type": "markdown",
      "metadata": {
        "id": "Tziu4VaGCzVR"
      },
      "source": [
        "후보 선정 과정 - https://youjin86.tistory.com/128\n",
        "\n",
        "모기예보 내용 정리 -https://youjin86.tistory.com/129"
      ]
    },
    {
      "cell_type": "markdown",
      "metadata": {
        "id": "i8-8t7TeBV7_"
      },
      "source": [
        "### 2. 데이터 상관 분석"
      ]
    },
    {
      "cell_type": "markdown",
      "metadata": {
        "id": "jeIWDlq6D52s"
      },
      "source": [
        "https://youjin86.tistory.com/130"
      ]
    },
    {
      "cell_type": "markdown",
      "metadata": {
        "id": "mCQ0t9DvBbEM"
      },
      "source": [
        "### 3. 머신러닝 모델 생성"
      ]
    },
    {
      "cell_type": "markdown",
      "metadata": {
        "id": "2s1Ol4JLD9M0"
      },
      "source": [
        "모델 생성 1차 - https://youjin86.tistory.com/131 </p>\n",
        "모델 생성 2차 - https://github.com/urtbest86/MLOps/blob/master/211015_%EC%A7%84%ED%96%89%EC%A4%91.ipynb"
      ]
    },
    {
      "cell_type": "markdown",
      "metadata": {
        "id": "lYDCSkR9BpS_"
      },
      "source": [
        "### 4. Azure ML Serives에 업로드"
      ]
    },
    {
      "cell_type": "markdown",
      "metadata": {
        "id": "lAorC4XGB8-5"
      },
      "source": [
        "### 5. 배포 및 API 생성"
      ]
    },
    {
      "cell_type": "markdown",
      "metadata": {
        "id": "4I6AzEuHB9BJ"
      },
      "source": [
        "### 6. 로드밸런싱 적용"
      ]
    }
  ]
}